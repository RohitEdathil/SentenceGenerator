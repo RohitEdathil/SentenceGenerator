{
 "cells": [
  {
   "cell_type": "code",
   "execution_count": 1,
   "source": [
    "from trainer import train\r\n",
    "from generator import Generator"
   ],
   "outputs": [],
   "metadata": {}
  },
  {
   "cell_type": "code",
   "execution_count": 35,
   "source": [
    "train(\"news.txt\", \"News\")\r\n"
   ],
   "outputs": [
    {
     "output_type": "stream",
     "name": "stderr",
     "text": [
      "Parsing data: 100%|██████████| 1226258/1226258 [1:09:06<00:00, 295.73it/s]\n",
      "Training model: 100%|██████████| 1226258/1226258 [00:13<00:00, 88247.91it/s]\n",
      "Normalizing Values: 100%|██████████| 116385/116385 [00:00<00:00, 121410.37it/s]\n"
     ]
    },
    {
     "output_type": "stream",
     "name": "stdout",
     "text": [
      "Writing model to News\n",
      "Done writing model to News\n"
     ]
    }
   ],
   "metadata": {}
  },
  {
   "cell_type": "code",
   "execution_count": 23,
   "source": [
    "model = Generator(\"News\")\r\n"
   ],
   "outputs": [],
   "metadata": {}
  },
  {
   "cell_type": "code",
   "execution_count": 34,
   "source": [
    "model.get()"
   ],
   "outputs": [
    {
     "output_type": "execute_result",
     "data": {
      "text/plain": [
       "'Ufff'"
      ]
     },
     "metadata": {},
     "execution_count": 34
    }
   ],
   "metadata": {}
  }
 ],
 "metadata": {
  "orig_nbformat": 4,
  "language_info": {
   "name": "python",
   "version": "3.9.6",
   "mimetype": "text/x-python",
   "codemirror_mode": {
    "name": "ipython",
    "version": 3
   },
   "pygments_lexer": "ipython3",
   "nbconvert_exporter": "python",
   "file_extension": ".py"
  },
  "kernelspec": {
   "name": "python3",
   "display_name": "Python 3.9.6 64-bit"
  },
  "interpreter": {
   "hash": "bed2b05627c9bfce4c7c258f3fbe4141cf0c6cea887d285c5a7e5f8c05c932be"
  }
 },
 "nbformat": 4,
 "nbformat_minor": 2
}